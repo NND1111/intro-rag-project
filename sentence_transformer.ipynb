{
 "cells": [
  {
   "cell_type": "code",
   "execution_count": null,
   "id": "b6117b8b",
   "metadata": {},
   "outputs": [],
   "source": [
    "from sentence_transformers import SentenceTransformer\n",
    "model = SentenceTransformer('all-MiniLM-L6-v2')\n",
    "embedding = model.encode(\"Test sentence about AI ethics.\")\n",
    "print(embedding.shape)  # Output: (384,) – vector dimension"
   ]
  },
  {
   "cell_type": "code",
   "execution_count": 27,
   "id": "0f7118f9",
   "metadata": {},
   "outputs": [
    {
     "name": "stderr",
     "output_type": "stream",
     "text": [
      "Device set to use cpu\n"
     ]
    }
   ],
   "source": [
    "from transformers import pipeline, set_seed\n",
    "\n",
    "generator = pipeline('text-generation', model='gpt2')\n",
    "set_seed(2025)"
   ]
  },
  {
   "cell_type": "code",
   "execution_count": null,
   "id": "8bcab268",
   "metadata": {},
   "outputs": [],
   "source": [
    "prompt = \"I know the name of the 46th President of the United States. His name is\"  # Post-training cutoff\n",
    "response = generator(prompt, max_length=100, num_return_sequences=5, temperature=0.1)\n",
    "print(response[0]['generated_text'])  # Likely hallucinates a fake event"
   ]
  },
  {
   "cell_type": "markdown",
   "id": "cf0aea28",
   "metadata": {},
   "source": [
    "Data processing"
   ]
  },
  {
   "cell_type": "code",
   "execution_count": null,
   "id": "4bb12542",
   "metadata": {},
   "outputs": [],
   "source": [
    "# import os\n",
    "# from langchain.text_splitter import RecursiveCharacterTextSplitter\n",
    "# from langchain.document_loaders import TextLoader\n",
    "# import pickle  # For saving chunks if needed\n",
    "\n",
    "# # Path to your data folder\n",
    "# data_dir = \"data\"  # Assumes /data in your repo root\n",
    "\n",
    "# # List to hold all chunks\n",
    "# all_chunks = []\n",
    "\n",
    "# # Loop over files 1.txt to 15.txt (skips missing ones)\n",
    "# for i in range(1, 11):  # 1 to 15\n",
    "#     file_path = os.path.join(data_dir, f\"{i}.txt\")\n",
    "#     if os.path.exists(file_path):\n",
    "#         print(f\"Loading {file_path}...\")\n",
    "#         loader = TextLoader(file_path, encoding=\"utf-8\")  # Handles standard text\n",
    "#         docs = loader.load()\n",
    "#         text = \" \".join([doc.page_content for doc in docs])  # Just the text\n",
    "\n",
    "#         # Clean: Remove extra whitespace, newlines (basic)\n",
    "#         text = ' '.join(text.split())  # Collapses multiples\n",
    "#         text = text.replace('\\n', ' ')  # Flatten newlines if any\n",
    "\n",
    "#         # Chunk this file's text\n",
    "#         splitter = RecursiveCharacterTextSplitter(\n",
    "#             chunk_size=500,  # ~500 chars/tokens\n",
    "#             chunk_overlap=50  # Overlap for context continuity\n",
    "#         )\n",
    "#         file_chunks = splitter.split_text(text)\n",
    "#         all_chunks.extend(file_chunks)  # Add to total pool\n",
    "#         print(f\"Added {len(file_chunks)} chunks from {i}.txt\")\n",
    "#     else:\n",
    "#         print(f\"Skipping {file_path} (not found)\")\n",
    "\n",
    "# # Final count\n",
    "# print(f\"Total chunks created: {len(all_chunks)}\")\n",
    "\n",
    "# # Optional: Save for later (e.g., Day 2 embedding)\n",
    "# with open(\"chunks.pkl\", \"wb\") as f:\n",
    "#     pickle.dump(all_chunks, f)\n",
    "# print(\"Chunks saved to chunks.pkl\")"
   ]
  }
 ],
 "metadata": {
  "kernelspec": {
   "display_name": "Python 3",
   "language": "python",
   "name": "python3"
  },
  "language_info": {
   "codemirror_mode": {
    "name": "ipython",
    "version": 3
   },
   "file_extension": ".py",
   "mimetype": "text/x-python",
   "name": "python",
   "nbconvert_exporter": "python",
   "pygments_lexer": "ipython3",
   "version": "3.12.4"
  }
 },
 "nbformat": 4,
 "nbformat_minor": 5
}
