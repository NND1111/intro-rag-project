{
 "cells": [
  {
   "cell_type": "markdown",
   "id": "98b193a7",
   "metadata": {},
   "source": [
    "Ingestion - Input data and chunk them"
   ]
  },
  {
   "cell_type": "code",
   "execution_count": 1,
   "id": "b7d5815a",
   "metadata": {},
   "outputs": [
    {
     "name": "stderr",
     "output_type": "stream",
     "text": [
      "c:\\Users\\nguye\\AppData\\Local\\Programs\\Python\\Python312\\Lib\\site-packages\\tqdm\\auto.py:21: TqdmWarning: IProgress not found. Please update jupyter and ipywidgets. See https://ipywidgets.readthedocs.io/en/stable/user_install.html\n",
      "  from .autonotebook import tqdm as notebook_tqdm\n"
     ]
    },
    {
     "name": "stdout",
     "output_type": "stream",
     "text": [
      "Processed article_ag ... as source_id 1, added 21 chunks\n",
      "Processed article_sa ... as source_id 2, added 7 chunks\n",
      "Processed article_th ... as source_id 3, added 88 chunks\n",
      "Processed diggit_mag ... as source_id 4, added 32 chunks\n",
      "Processed editorial_ ... as source_id 5, added 19 chunks\n",
      "Processed fullbright ... as source_id 6, added 6 chunks\n",
      "Processed In_search_ ... as source_id 7, added 46 chunks\n",
      "Processed reuters_th ... as source_id 8, added 7 chunks\n",
      "Processed saigoneer. ... as source_id 9, added 17 chunks\n",
      "Processed song_your_ ... as source_id 10, added 3 chunks\n",
      "Processed TCS-Buddhi ... as source_id 11, added 198 chunks\n",
      "Processed thenewlens ... as source_id 12, added 10 chunks\n",
      "Processed the_new_yo ... as source_id 13, added 11 chunks\n",
      "Processed Trinh Cong ... as source_id 14, added 19 chunks\n",
      "Processed Trinh_Cong ... as source_id 15, added 9 chunks\n",
      "Processed trinh_cong ... as source_id 16, added 3 chunks\n",
      "Processed trinh_cong ... as source_id 17, added 3 chunks\n",
      "Processed Vietcetera ... as source_id 18, added 18 chunks\n",
      "Processed vietcetera ... as source_id 19, added 17 chunks\n",
      "Processed wikipedia_ ... as source_id 20, added 40 chunks\n",
      "Total chunks created: 574\n",
      "Data retrieval is complete\n"
     ]
    }
   ],
   "source": [
    "import os\n",
    "from langchain.text_splitter import RecursiveCharacterTextSplitter\n",
    "from langchain.document_loaders import TextLoader, PyPDFLoader\n",
    "import pickle  \n",
    "\n",
    "# Path to your data folder\n",
    "data_dir = \"pre_chosen_sources\"  \n",
    "# List to hold all chunks\n",
    "all_chunks = []\n",
    "source_map = {}\n",
    "\n",
    "#Getting all files\n",
    "files = [f for f in os.listdir(data_dir) if f.lower().endswith(('.txt', '.pdf'))] # only support text file and pdf file for data extraction\n",
    "\n",
    "for id, file_name in enumerate(files, start=1):\n",
    "    file_path = os.path.join(data_dir, file_name)\n",
    "    source_map[id] = file_name\n",
    "\n",
    "    #Load according to the file extension\n",
    "    if file_name.lower().endswith(\".txt\"):\n",
    "        loader = TextLoader(file_path, encoding=\"utf-8\")\n",
    "    elif file_name.lower().endswith(\".pdf\"):\n",
    "        loader = PyPDFLoader(file_path)\n",
    "    else:\n",
    "        continue # skip loop if file is not supported\n",
    "\n",
    "    docs = loader.load()\n",
    "    text = \" \".join([doc.page_content for doc in docs])\n",
    "    text = ' '.join(text.split())  # Collapses multiples\n",
    "    text = text.replace('\\n', ' ')  # Flatten newlines if any\n",
    "\n",
    "    splitter = RecursiveCharacterTextSplitter(\n",
    "            chunk_size=500,  # ~500 chars/tokens\n",
    "            chunk_overlap=50  # Overlap for context continuity\n",
    "\n",
    "        )\n",
    "    file_chunks = splitter.split_text(text)\n",
    "    for chunk in file_chunks:\n",
    "        all_chunks.append({'text': chunk, 'source_id': id}) #updated to cite according to sources' name\n",
    "    \n",
    "    print(f\"Processed {file_name[:10]} ... as source_id {id}, added {len(file_chunks)} chunks\")\n",
    "\n",
    "\n",
    "# Final count\n",
    "print(f\"Total chunks created: {len(all_chunks)}\")\n",
    "\n",
    "# Save data \n",
    "with open(\"chunks.pkl\", \"wb\") as f:\n",
    "    pickle.dump(all_chunks, f)\n",
    "with open(\"source_map.pkl\", \"wb\") as f:\n",
    "    pickle.dump(source_map, f)\n",
    "\n",
    "print(\"Data retrieval is complete\")"
   ]
  },
  {
   "cell_type": "code",
   "execution_count": 7,
   "id": "0f7118f9",
   "metadata": {},
   "outputs": [],
   "source": [
    "# from transformers import pipeline, set_seed\n",
    "\n",
    "# generator = pipeline('question-answering', model='gpt2')\n",
    "# set_seed(2025)\n",
    "\n",
    "from huggingface_hub import InferenceClient\n",
    "\n",
    "\n",
    "client = InferenceClient(model=\"meta-llama/Meta-Llama-3.1-405B-Instruct\")\n"
   ]
  },
  {
   "cell_type": "markdown",
   "id": "04f49a9b",
   "metadata": {},
   "source": [
    "Load processed text"
   ]
  },
  {
   "cell_type": "code",
   "execution_count": 2,
   "id": "aeefab03",
   "metadata": {},
   "outputs": [
    {
     "name": "stdout",
     "output_type": "stream",
     "text": [
      "Loaded 574 chunks\n"
     ]
    }
   ],
   "source": [
    "import pickle\n",
    "with open(\"chunks.pkl\", \"rb\") as f:\n",
    "    all_chunks = pickle.load(f)\n",
    "print(f\"Loaded {len(all_chunks)} chunks\")  # e.g., 30 chunks"
   ]
  },
  {
   "cell_type": "markdown",
   "id": "3c4b9520",
   "metadata": {},
   "source": [
    "Embed the chunks above"
   ]
  },
  {
   "cell_type": "code",
   "execution_count": 3,
   "id": "b7cb03ab",
   "metadata": {},
   "outputs": [
    {
     "name": "stdout",
     "output_type": "stream",
     "text": [
      "Embeddings shape: (574, 384)\n"
     ]
    }
   ],
   "source": [
    "from sentence_transformers import SentenceTransformer\n",
    "import numpy as np\n",
    "model = SentenceTransformer('all-MiniLM-L6-v2')\n",
    "\n",
    "\n",
    "embed_model = SentenceTransformer('all-MiniLM-L6-v2') \n",
    "embeddings = embed_model.encode(all_chunks)  #\n",
    "embeddings = np.array(embeddings).astype('float32')  # FAISS needs this\n",
    "print(f\"Embeddings shape: {embeddings.shape}\")  # e.g., (30, 384) – chunks x dimensions"
   ]
  },
  {
   "cell_type": "markdown",
   "id": "e5d8feb1",
   "metadata": {},
   "source": [
    "Using Faiss for fast vector database searching"
   ]
  },
  {
   "cell_type": "code",
   "execution_count": 4,
   "id": "6e2a4863",
   "metadata": {},
   "outputs": [
    {
     "name": "stdout",
     "output_type": "stream",
     "text": [
      "Index built with 574 vectors\n"
     ]
    }
   ],
   "source": [
    "import faiss\n",
    "\n",
    "dimension = embeddings.shape[1]  # e.g., 384\n",
    "index = faiss.IndexFlatL2(dimension)  # Basic flat index (exact search, good for small data)\n",
    "index.add(embeddings)  # Train/add your vectors\n",
    "print(f\"Index built with {index.ntotal} vectors\")  # Matches chunk count"
   ]
  },
  {
   "cell_type": "markdown",
   "id": "1fc42638",
   "metadata": {},
   "source": [
    "Chat completion and comparision between two pipelines"
   ]
  },
  {
   "cell_type": "code",
   "execution_count": 8,
   "id": "afd8a85c",
   "metadata": {},
   "outputs": [],
   "source": [
    "import pandas as pd\n",
    "import time\n",
    "from pipelines import * \n",
    "import re\n",
    "from sentence_transformers import util\n",
    "import numpy as np\n",
    "import pickle  \n",
    "\n",
    "\n",
    "def augment_prompt_no_query(retrieved_chunks):\n",
    "    context_parts = []\n",
    "    for chunk_tuple in retrieved_chunks:\n",
    "        chunk_dict = chunk_tuple[0]  # {'text':, 'source_id':}\n",
    "        source_id = chunk_dict['source_id']\n",
    "        text = chunk_dict['text']\n",
    "        context_parts.append(f\"[Source ID: {source_id}]\\n{text}\")\n",
    "    \n",
    "    context = \"\\n\\n\".join(context_parts)\n",
    "    prompt = f\"\"\"Use the following context to answer the question factually. If the context doesn't cover it, say \"I don't have info on that. You MUST always provide a response—do not return nothing or an empty answer\"\n",
    "    \n",
    "            Context: {context}\"\"\"\n",
    "    return prompt  # this is prompt engineering\n",
    "\n",
    " # Use embedding model for Post-Generation Similarity Matching in conjunction with traditional regex searching\n",
    "def attribute_sources(ragged_output, retrieved_chunks, embed_model, threshold=0.7):\n",
    "    if not ragged_output:\n",
    "        return []\n",
    "    \n",
    "\n",
    "    sentences = [s.strip() for s in ragged_output.split('.') if s.strip()]\n",
    "    \n",
    "    if not sentences:\n",
    "        return []\n",
    "    \n",
    "    # Embed response sentences\n",
    "    sent_embeds = embed_model.encode(sentences)\n",
    "    \n",
    "    # Embed retrieved chunks\n",
    "    chunk_texts = [chunk_tuple[0]['text'] for chunk_tuple in retrieved_chunks]\n",
    "    chunk_embeds = embed_model.encode(chunk_texts)\n",
    "    \n",
    "    used_source_ids = set()\n",
    "    for sent_embed in sent_embeds:\n",
    "        similarities = util.cos_sim(sent_embed, chunk_embeds)[0]\n",
    "        max_sim_idx = np.argmax(similarities)\n",
    "        if similarities[max_sim_idx] >= threshold:\n",
    "            source_id = retrieved_chunks[max_sim_idx][0]['source_id']\n",
    "            used_source_ids.add(source_id)\n",
    "    \n",
    "    return sorted(used_source_ids)\n",
    "\n",
    "def compare_ragged_outputs(queries, embed_model, index, all_chunks, max_length=300):\n",
    "    with open(\"source_map.pkl\", \"rb\") as f:\n",
    "        SOURCE_MAP = pickle.load(f)\n",
    "    results = []\n",
    "    for query in queries:\n",
    "        start_time = time.time()\n",
    "        \n",
    "        # Plain LLM\n",
    "        plain_messages = [{\"role\": \"system\", \"content\": \"You MUST always provide a response—do not return nothing or an empty answer\"}, {\"role\": \"user\", \"content\": query}]\n",
    "        plain_response = client.chat_completion(plain_messages, max_tokens=300)\n",
    "        plain_output = plain_response.choices[0].message.content  # Extract content\n",
    "        plain_time = time.time() - start_time\n",
    "\n",
    "        if plain_output is None: # can still return None if there is error in API call\n",
    "            plain_output = \"\"  # Treat as empty string\n",
    "            print(f\"Warning: LLM returned None for query '{query}'—handling as empty.\")\n",
    "\n",
    "        # RAG\n",
    "        rag_start = time.time()\n",
    "        retrieved = retrieve_chunks(query, embed_model, index, all_chunks)\n",
    "        rag_messages = [{\"role\": \"system\", \"content\": augment_prompt_no_query(retrieved)}, {\"role\": \"user\", \"content\": query}]  # System first\n",
    "        rag_response = client.chat_completion(rag_messages, max_tokens=300)\n",
    "        ragged_output = rag_response.choices[0].message.content\n",
    "        used_sources = set()\n",
    "        \n",
    "        if ragged_output is None:\n",
    "            ragged_output = \"\"  # Treat as empty string\n",
    "            print(f\"Warning: RAG model returned None for query '{query}'—handling as empty.\")\n",
    "\n",
    "        # Step 1: Try regex parsing for inline citations (as fallback or hybrid)\n",
    "        used_source_ids_regex = set(re.findall(r'\\[Source ID: \\d+\\]', ragged_output))  # Fixed regex to match [Source ID: x]\n",
    "        \n",
    "        # Step 2: Use similarity matching as primary method\n",
    "        used_source_ids_sim = set(attribute_sources(ragged_output, retrieved, embed_model))\n",
    "        \n",
    "        # Combine: Use similarity primarily, add regex if any unique\n",
    "        used_source_ids = used_source_ids_sim.union(used_source_ids_regex)\n",
    "        \n",
    "        # Map to file names\n",
    "        used_sources = {SOURCE_MAP[int(sid)] for sid in used_source_ids if int(sid) in SOURCE_MAP}\n",
    "        \n",
    "        # If no citations found, fall back to all retrieved sources\n",
    "        if not used_sources:\n",
    "            used_source_ids_all = set(chunk_tuple[0]['source_id'] for chunk_tuple in retrieved)\n",
    "            used_sources = {SOURCE_MAP[sid] for sid in used_source_ids_all if sid in SOURCE_MAP}\n",
    "        \n",
    "        # Sort and format\n",
    "        sources_list = sorted(used_sources)\n",
    "        sources_str = \"Sources: \" + \", \".join(sources_list) if sources_list else \"No sources used.\"\n",
    "        \n",
    "        # Append to ragged_output\n",
    "        full_output = ragged_output + \"\\n\\n\" + sources_str if ragged_output else \"No output generated.\"\n",
    "\n",
    "        rag_time = time.time() - rag_start\n",
    "        \n",
    "        results.append({\n",
    "            'query': query,\n",
    "            'plain_answer': plain_output,\n",
    "            'rag_answer': full_output,\n",
    "            'plain_latency': plain_time,\n",
    "            'rag_latency': rag_time\n",
    "        })\n",
    "        print(f\"Processed: {query} | Plain: {plain_time:.2f}s | RAG: {rag_time:.2f}s\")\n",
    "    \n",
    "    # Save to CSV if you want\n",
    "    df = pd.DataFrame(results)\n",
    "    df.to_csv('comparison_results.csv', index=False)\n",
    "    print(\"Results saved to comparison_results.csv\")\n",
    "    return df"
   ]
  },
  {
   "cell_type": "markdown",
   "id": "9a4706d9",
   "metadata": {},
   "source": [
    "TEST SPACE\n"
   ]
  },
  {
   "cell_type": "code",
   "execution_count": 9,
   "id": "b93ac757",
   "metadata": {},
   "outputs": [
    {
     "name": "stdout",
     "output_type": "stream",
     "text": [
      "Processed: What was the first song made by Trinh Cong Son? | Plain: 4.84s | RAG: 1.90s\n",
      "Processed: Where was Trinh Cong Son born? | Plain: 1.27s | RAG: 1.45s\n",
      "Processed: How many songs did Trinh Cong Son produce? | Plain: 2.35s | RAG: 1.97s\n",
      "Processed: Trinh Cong Son was nickname? | Plain: 1.43s | RAG: 1.19s\n",
      "Processed: Trinh Cong Son favorite song is ? | Plain: 2.58s | RAG: 1.48s\n",
      "Processed: How influential was Trinh Cong Son's legacy | Plain: 4.96s | RAG: 4.44s\n",
      "Processed: Was Trinh Cong Son consider 'Bob Dylan 'of Vietnam | Plain: 4.57s | RAG: 2.22s\n",
      "Processed: DId Trinh Cong Son write antiwar songs? | Plain: 4.25s | RAG: 1.62s\n",
      "Results saved to comparison_results.csv\n"
     ]
    },
    {
     "data": {
      "application/vnd.microsoft.datawrangler.viewer.v0+json": {
       "columns": [
        {
         "name": "index",
         "rawType": "int64",
         "type": "integer"
        },
        {
         "name": "query",
         "rawType": "object",
         "type": "string"
        },
        {
         "name": "plain_answer",
         "rawType": "object",
         "type": "string"
        },
        {
         "name": "rag_answer",
         "rawType": "object",
         "type": "string"
        },
        {
         "name": "plain_latency",
         "rawType": "float64",
         "type": "float"
        },
        {
         "name": "rag_latency",
         "rawType": "float64",
         "type": "float"
        }
       ],
       "ref": "f84f3efa-8eb4-4593-aa42-3a77d914692c",
       "rows": [
        [
         "0",
         "What was the first song made by Trinh Cong Son?",
         "Unfortunately, I couldn't find any reliable information on the first song written by Trinh Cong Son, a famous Vietnamese composer and songwriter. Trinh Cong Son was a prolific artist, and his works are still widely popular in Vietnam and beyond. However, I couldn't pinpoint the exact first song he created.\n\nThat being said, Trinh Cong Son's music career spanned many decades, and he wrote hundreds of songs. Some of his most famous works include \"Nhung Ong Sao Dem 30\" (The Fireflies of the 30th Night), \"Diem Xua\" (The Past Moment), and \"Tinh Ta\" (Our Love). If you're interested in learning more about his music, I can try to provide more information or recommend some of his popular songs!",
         "According to the context, Trinh Cong Son's first song was \"Uot Mi\" (Misty Eyes), which was released in 1957.\n\nSources: article_ageless_songs_of_love_and_peace.txt",
         "4.841829776763916",
         "1.8997352123260498"
        ],
        [
         "1",
         "Where was Trinh Cong Son born?",
         "Trinh Cong Son was born in Dac Lac Province, Vietnam (now known as Dak Lak Province), but he grew up in Hue, Vietnam, where his family later moved.",
         "Trinh Cong Son was born in the former royal city of Hue (now part of Dak Lak province).\n\nSources: article_ageless_songs_of_love_and_peace.txt",
         "1.2661898136138916",
         "1.446826696395874"
        ],
        [
         "2",
         "How many songs did Trinh Cong Son produce?",
         "Trinh Cong Son is a renowned Vietnamese musician and songwriter. He is often referred to as the \"Bob Dylan of Vietnam\" due to his poetic and influential songwriting style.\n\nTrinh Cong Son is estimated to have written and produced over 600 songs during his lifetime, although the exact number is not well-documented. Many of his songs became iconic and beloved in Vietnamese culture, often addressing themes of love, war, and social justice.\n\nIf you're interested in learning more about Trinh Cong Son's music or would like some recommendations, feel free to ask!",
         "I don't have info on that. The provided context does not mention the total number of songs produced by Trinh Cong Son. It only mentions some of his popular songs and albums, but does not provide a comprehensive count of his entire discography.\n\nSources: article_ageless_songs_of_love_and_peace.txt",
         "2.3506851196289062",
         "1.9671640396118164"
        ],
        [
         "3",
         "Trinh Cong Son was nickname?",
         "Trinh Cong Son was often nicknamed the \"Bob Dylan of Vietnam\" due to his influential and poetic songwriting, which often addressed social and political issues in Vietnam during the 1960s and 1970s.",
         "I don't have info on that.\n\nSources: article_ageless_songs_of_love_and_peace.txt",
         "1.4310259819030762",
         "1.1893815994262695"
        ],
        [
         "4",
         "Trinh Cong Son favorite song is ?",
         "Unfortunately, I couldn't find any reliable sources that mention Trinh Cong Son's favorite song. Trinh Cong Son was a prolific Vietnamese composer and songwriter, and he wrote many iconic songs that are still widely popular today. Some of his most famous songs include \"Nho Mua Thu Ha Noi\", \"Goi Ten Bon Mua\", and \"Diem Xua\". However, without further information, I couldn't pinpoint a specific song that he considered his favorite. If you have any more context or details, I'd be happy to try and help you further!",
         "I don't have info on Trinh Cong Son's favorite song.\n\nSources: article_ageless_songs_of_love_and_peace.txt",
         "2.5829343795776367",
         "1.481032371520996"
        ],
        [
         "5",
         "How influential was Trinh Cong Son's legacy",
         "Trinh Cong Son (1939-2001) was a renowned Vietnamese musician, songwriter, and painter, widely regarded as one of the most influential figures in Vietnamese music and culture. His legacy has had a profound impact on the music scene in Vietnam and beyond. Here are some aspects of his influential legacy:\n\n1. **Modernization of Vietnamese music**: Trinh Cong Son is credited with revolutionizing Vietnamese music by introducing Western instruments and harmonies, while maintaining traditional Vietnamese melodies and themes. This blend of styles created a unique sound that captivated audiences and paved the way for future generations of musicians.\n2. **Protest songs and social commentary**: During the Vietnam War, Trinh Cong Son wrote songs that addressed the human cost of conflict, love, and social justice. His music became a powerful voice for the anti-war movement and a symbol of resistance against oppression. His legacy continues to inspire artists to use their platform for social commentary and activism.\n3. **Influence on Vietnamese diaspora**: Trinh Cong Son's music played a significant role in the cultural lives of Vietnamese refugees and immigrants worldwide. His songs helped to preserve Vietnamese culture and identity, providing a sense of connection to their homeland and heritage.\n4. **Inspiration to younger generations**: Trinh Cong Son's music and legacy have inspired countless young Vietnamese musicians, many of whom have followed in his footsteps by experimenting with fusion styles and socially conscious themes.\n5. **Cultural ambassador**: Trinh Cong Son's music and art have",
         "According to the context, Trinh Cong Son's legacy is extremely influential. His songs have struck a chord in both Vietnamese and foreign hearts, and he has been immortalized by his fans at home and abroad. His music is described as a \"river of love and peace that flows inside listeners' veins\" and is loved by millions of people across different ages and backgrounds.\n\nThe fact that 14 free concerts have been organized in his memory since his death in 2001, and that his songs continue to be performed by different generations of singers, is a testament to the enduring impact of his legacy. Additionally, his songs have been translated into other languages, such as Japanese, and have become popular in other countries, further demonstrating the reach and influence of his music.\n\nThe context also mentions that his fans still love to discover his songs performed by different generations, and that his music can bring people together, as evidenced by the concert \"Noi Vong Tay Lon\" (Circle of Unity), which aims to promote love, friendship, and peace. Overall, Trinh Cong Son's legacy is portrayed as one that continues to inspire, unite, and touch the hearts of people around the world.\n\nSources: article_ageless_songs_of_love_and_peace.txt",
         "4.95977258682251",
         "4.4410083293914795"
        ],
        [
         "6",
         "Was Trinh Cong Son consider 'Bob Dylan 'of Vietnam",
         "What a fascinating comparison!\n\nYes, Trinh Cong Son (1939-2001) is often referred to as the \"Bob Dylan of Vietnam\" due to his immense influence on Vietnamese music and his role as a singer-songwriter, poet, and composer. Like Dylan, Son's music addressed social issues, politics, and the human condition, resonating deeply with the Vietnamese people.\n\nDuring the Vietnam War, Son's music became a beacon of hope, peace, and patriotism, capturing the mood and sentiment of the nation. His songs, often melancholic and introspective, spoke to the experiences of ordinary people affected by the war, as well as the struggles of the Vietnamese people under communist rule.\n\nSon's music style, which blended traditional Vietnamese folk with Western influences, was also similar to Dylan's folk-rock sound. His poetic lyrics, often laced with metaphors and symbolism, added depth and complexity to his songs, much like Dylan's storytelling style.\n\nThe \"Bob Dylan of Vietnam\" moniker is not only a testament to Son's artistic talent but also a recognition of his impact on Vietnamese culture and society. Despite facing censorship and persecution by the communist government, Son continued to write and perform music that inspired generations of Vietnamese people.\n\nToday, Trinh Cong Son's legacy endures, and his music remains an integral part of Vietnamese cultural heritage, with many regarding him as one of the greatest Vietnamese musicians of all time.",
         "I don't have info on that. The provided context does not mention Trinh Cong Son being considered the \"Bob Dylan of Vietnam.\" However, it does describe him as a renowned songwriter who has struck a chord in both Vietnamese and foreign hearts with his songs of love and peace, and that he has been immortalized by his fans at home and abroad.\n\nSources: article_ageless_songs_of_love_and_peace.txt",
         "4.569571495056152",
         "2.218799114227295"
        ],
        [
         "7",
         "DId Trinh Cong Son write antiwar songs?",
         "Yes, Trinh Cong Son was a Vietnamese musician and songwriter who wrote many anti-war songs during the Vietnam War. His music often dealt with themes of love, loss, and the human cost of war, and he is widely regarded as one of the most influential and important Vietnamese musicians of the 20th century.\n\nTrinh Cong Son's anti-war songs were often subtle and poetic, using metaphor and imagery to convey his messages rather than direct protest or propaganda. This approach allowed him to express his opposition to the war without being too overtly confrontational, which was important in a time when censorship and repression were widespread.\n\nSome of his most famous anti-war songs include \"Nha Trang Mua Nay\" (\"Nha Trang This Year\"), \"Gia Tai Cua Me\" (\"Mother's Legacy\"), and \"Ta Ve Nhin Lai\" (\"We Look Back\"). These songs have become iconic in Vietnamese music and continue to be widely performed and admired today.\n\nTrinh Cong Son's music was not only popular in Vietnam but also gained international recognition, and he is often credited with helping to bring attention to the human impact of the Vietnam War through his songs.",
         "Yes, according to the context, Trinh Cong Son composed several anti-war songs that were popular during the American War.\n\nSources: article_ageless_songs_of_love_and_peace.txt",
         "4.250161647796631",
         "1.6152844429016113"
        ]
       ],
       "shape": {
        "columns": 5,
        "rows": 8
       }
      },
      "text/html": [
       "<div>\n",
       "<style scoped>\n",
       "    .dataframe tbody tr th:only-of-type {\n",
       "        vertical-align: middle;\n",
       "    }\n",
       "\n",
       "    .dataframe tbody tr th {\n",
       "        vertical-align: top;\n",
       "    }\n",
       "\n",
       "    .dataframe thead th {\n",
       "        text-align: right;\n",
       "    }\n",
       "</style>\n",
       "<table border=\"1\" class=\"dataframe\">\n",
       "  <thead>\n",
       "    <tr style=\"text-align: right;\">\n",
       "      <th></th>\n",
       "      <th>query</th>\n",
       "      <th>plain_answer</th>\n",
       "      <th>rag_answer</th>\n",
       "      <th>plain_latency</th>\n",
       "      <th>rag_latency</th>\n",
       "    </tr>\n",
       "  </thead>\n",
       "  <tbody>\n",
       "    <tr>\n",
       "      <th>0</th>\n",
       "      <td>What was the first song made by Trinh Cong Son?</td>\n",
       "      <td>Unfortunately, I couldn't find any reliable in...</td>\n",
       "      <td>According to the context, Trinh Cong Son's fir...</td>\n",
       "      <td>4.841830</td>\n",
       "      <td>1.899735</td>\n",
       "    </tr>\n",
       "    <tr>\n",
       "      <th>1</th>\n",
       "      <td>Where was Trinh Cong Son born?</td>\n",
       "      <td>Trinh Cong Son was born in Dac Lac Province, V...</td>\n",
       "      <td>Trinh Cong Son was born in the former royal ci...</td>\n",
       "      <td>1.266190</td>\n",
       "      <td>1.446827</td>\n",
       "    </tr>\n",
       "    <tr>\n",
       "      <th>2</th>\n",
       "      <td>How many songs did Trinh Cong Son produce?</td>\n",
       "      <td>Trinh Cong Son is a renowned Vietnamese musici...</td>\n",
       "      <td>I don't have info on that. The provided contex...</td>\n",
       "      <td>2.350685</td>\n",
       "      <td>1.967164</td>\n",
       "    </tr>\n",
       "    <tr>\n",
       "      <th>3</th>\n",
       "      <td>Trinh Cong Son was nickname?</td>\n",
       "      <td>Trinh Cong Son was often nicknamed the \"Bob Dy...</td>\n",
       "      <td>I don't have info on that.\\n\\nSources: article...</td>\n",
       "      <td>1.431026</td>\n",
       "      <td>1.189382</td>\n",
       "    </tr>\n",
       "    <tr>\n",
       "      <th>4</th>\n",
       "      <td>Trinh Cong Son favorite song is ?</td>\n",
       "      <td>Unfortunately, I couldn't find any reliable so...</td>\n",
       "      <td>I don't have info on Trinh Cong Son's favorite...</td>\n",
       "      <td>2.582934</td>\n",
       "      <td>1.481032</td>\n",
       "    </tr>\n",
       "    <tr>\n",
       "      <th>5</th>\n",
       "      <td>How influential was Trinh Cong Son's legacy</td>\n",
       "      <td>Trinh Cong Son (1939-2001) was a renowned Viet...</td>\n",
       "      <td>According to the context, Trinh Cong Son's leg...</td>\n",
       "      <td>4.959773</td>\n",
       "      <td>4.441008</td>\n",
       "    </tr>\n",
       "    <tr>\n",
       "      <th>6</th>\n",
       "      <td>Was Trinh Cong Son consider 'Bob Dylan 'of Vie...</td>\n",
       "      <td>What a fascinating comparison!\\n\\nYes, Trinh C...</td>\n",
       "      <td>I don't have info on that. The provided contex...</td>\n",
       "      <td>4.569571</td>\n",
       "      <td>2.218799</td>\n",
       "    </tr>\n",
       "    <tr>\n",
       "      <th>7</th>\n",
       "      <td>DId Trinh Cong Son write antiwar songs?</td>\n",
       "      <td>Yes, Trinh Cong Son was a Vietnamese musician ...</td>\n",
       "      <td>Yes, according to the context, Trinh Cong Son ...</td>\n",
       "      <td>4.250162</td>\n",
       "      <td>1.615284</td>\n",
       "    </tr>\n",
       "  </tbody>\n",
       "</table>\n",
       "</div>"
      ],
      "text/plain": [
       "                                               query  \\\n",
       "0    What was the first song made by Trinh Cong Son?   \n",
       "1                     Where was Trinh Cong Son born?   \n",
       "2         How many songs did Trinh Cong Son produce?   \n",
       "3                       Trinh Cong Son was nickname?   \n",
       "4                  Trinh Cong Son favorite song is ?   \n",
       "5        How influential was Trinh Cong Son's legacy   \n",
       "6  Was Trinh Cong Son consider 'Bob Dylan 'of Vie...   \n",
       "7            DId Trinh Cong Son write antiwar songs?   \n",
       "\n",
       "                                        plain_answer  \\\n",
       "0  Unfortunately, I couldn't find any reliable in...   \n",
       "1  Trinh Cong Son was born in Dac Lac Province, V...   \n",
       "2  Trinh Cong Son is a renowned Vietnamese musici...   \n",
       "3  Trinh Cong Son was often nicknamed the \"Bob Dy...   \n",
       "4  Unfortunately, I couldn't find any reliable so...   \n",
       "5  Trinh Cong Son (1939-2001) was a renowned Viet...   \n",
       "6  What a fascinating comparison!\\n\\nYes, Trinh C...   \n",
       "7  Yes, Trinh Cong Son was a Vietnamese musician ...   \n",
       "\n",
       "                                          rag_answer  plain_latency  \\\n",
       "0  According to the context, Trinh Cong Son's fir...       4.841830   \n",
       "1  Trinh Cong Son was born in the former royal ci...       1.266190   \n",
       "2  I don't have info on that. The provided contex...       2.350685   \n",
       "3  I don't have info on that.\\n\\nSources: article...       1.431026   \n",
       "4  I don't have info on Trinh Cong Son's favorite...       2.582934   \n",
       "5  According to the context, Trinh Cong Son's leg...       4.959773   \n",
       "6  I don't have info on that. The provided contex...       4.569571   \n",
       "7  Yes, according to the context, Trinh Cong Son ...       4.250162   \n",
       "\n",
       "   rag_latency  \n",
       "0     1.899735  \n",
       "1     1.446827  \n",
       "2     1.967164  \n",
       "3     1.189382  \n",
       "4     1.481032  \n",
       "5     4.441008  \n",
       "6     2.218799  \n",
       "7     1.615284  "
      ]
     },
     "execution_count": 9,
     "metadata": {},
     "output_type": "execute_result"
    }
   ],
   "source": [
    "#TEST\n",
    "# uncomment to test\n",
    "test_queries = [\n",
    "        \"What was the first song made by Trinh Cong Son?\",\n",
    "        \"Where was Trinh Cong Son born?\", \n",
    "        \"How many songs did Trinh Cong Son produce?\",\n",
    "        \"Trinh Cong Son was nickname?\", \n",
    "        \"Trinh Cong Son favorite song is ?\", \n",
    "        \"How influential was Trinh Cong Son's legacy\",\n",
    "        \"Was Trinh Cong Son consider 'Bob Dylan 'of Vietnam\",\n",
    "        \"DId Trinh Cong Son write antiwar songs?\"]\n",
    "df = compare_ragged_outputs(test_queries, embed_model, index, all_chunks, max_length=100)\n",
    "df\n",
    "#RAG shows no hallucination and cite its sources. Plain LLM hallucinates more. "
   ]
  }
 ],
 "metadata": {
  "kernelspec": {
   "display_name": "Python 3",
   "language": "python",
   "name": "python3"
  },
  "language_info": {
   "codemirror_mode": {
    "name": "ipython",
    "version": 3
   },
   "file_extension": ".py",
   "mimetype": "text/x-python",
   "name": "python",
   "nbconvert_exporter": "python",
   "pygments_lexer": "ipython3",
   "version": "3.12.4"
  }
 },
 "nbformat": 4,
 "nbformat_minor": 5
}
